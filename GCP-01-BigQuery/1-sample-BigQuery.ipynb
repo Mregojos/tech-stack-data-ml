{
 "cells": [
  {
   "cell_type": "markdown",
   "id": "8c1f4916-c8f6-478a-b91f-67a415238e02",
   "metadata": {},
   "source": [
    "# 1 Sample BQ\n",
    "\n",
    "Reference: cloud.google.com/bigquery/docs"
   ]
  },
  {
   "cell_type": "markdown",
   "id": "a4c5ac3b-5970-4aba-99e8-82ceea204c9c",
   "metadata": {},
   "source": [
    "## Getting Started"
   ]
  },
  {
   "cell_type": "markdown",
   "id": "baceaa98-153c-49f8-8caa-61012aca8411",
   "metadata": {},
   "source": [
    "## BigQuery CLI"
   ]
  },
  {
   "cell_type": "markdown",
   "id": "180b5346-816e-4f23-aeed-4b30095cb744",
   "metadata": {},
   "source": [
    "## Local Storage (CSV) to BigQuery"
   ]
  },
  {
   "cell_type": "code",
   "execution_count": null,
   "id": "2f36d0d7-ec98-45f2-9973-cd16922b958a",
   "metadata": {},
   "outputs": [],
   "source": []
  }
 ],
 "metadata": {
  "environment": {
   "kernel": "python3",
   "name": "tf2-cpu.2-11.m112",
   "type": "gcloud",
   "uri": "gcr.io/deeplearning-platform-release/tf2-cpu.2-11:m112"
  },
  "kernelspec": {
   "display_name": "Python 3",
   "language": "python",
   "name": "python3"
  },
  "language_info": {
   "codemirror_mode": {
    "name": "ipython",
    "version": 3
   },
   "file_extension": ".py",
   "mimetype": "text/x-python",
   "name": "python",
   "nbconvert_exporter": "python",
   "pygments_lexer": "ipython3",
   "version": "3.10.12"
  }
 },
 "nbformat": 4,
 "nbformat_minor": 5
}
