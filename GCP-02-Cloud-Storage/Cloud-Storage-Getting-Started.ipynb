{
 "cells": [
  {
   "cell_type": "markdown",
   "id": "bf43b342-2df4-4d0e-85d6-96508ad068c0",
   "metadata": {},
   "source": [
    "# 2 Sample Cloud Storage\n",
    "\n",
    "Reference: cloud.google.com/storage/docs"
   ]
  },
  {
   "cell_type": "markdown",
   "id": "7fd6a33c-631f-46c8-8efd-e8d92ae448ba",
   "metadata": {},
   "source": [
    "## Getting Started"
   ]
  },
  {
   "cell_type": "markdown",
   "id": "2c5cb45b-01c1-4297-b640-7e7f0f3f385a",
   "metadata": {},
   "source": [
    "### Create a bucket"
   ]
  },
  {
   "cell_type": "code",
   "execution_count": null,
   "id": "a28c5f5b-18b2-4a91-99eb-9695fffabde7",
   "metadata": {},
   "outputs": [],
   "source": [
    "BUCKET_NAME=\"<BUCKET_NAME\""
   ]
  },
  {
   "cell_type": "code",
   "execution_count": null,
   "id": "a06de96d-1b8c-47cb-83a0-d4948d376215",
   "metadata": {},
   "outputs": [],
   "source": [
    "!echo $BUCKET_NAME"
   ]
  },
  {
   "cell_type": "code",
   "execution_count": null,
   "id": "2e86ebba-49c7-41e3-a6a8-20496d12685c",
   "metadata": {},
   "outputs": [],
   "source": [
    "!gcloud storage buckets create gs://$BUCKET_NAME/ --uniform-bucket-level-access"
   ]
  },
  {
   "cell_type": "markdown",
   "id": "e09be55b-c6b3-4191-a8e5-45dfba8f5c95",
   "metadata": {},
   "source": [
    "### Upload an object into your bucket"
   ]
  },
  {
   "cell_type": "code",
   "execution_count": null,
   "id": "49926d99-8348-4b15-b9c0-b369d23d31e8",
   "metadata": {},
   "outputs": [],
   "source": [
    "!wget https://cloud.google.com/static/storage/images/kitten.png"
   ]
  },
  {
   "cell_type": "code",
   "execution_count": null,
   "id": "7f8d2daa-6908-46db-92af-29d72646d6cb",
   "metadata": {},
   "outputs": [],
   "source": [
    "!gcloud storage cp kitten.png gs://$BUCKET_NAME"
   ]
  },
  {
   "cell_type": "markdown",
   "id": "d6a102bd-4a15-4130-a066-986716e9cde7",
   "metadata": {},
   "source": [
    "### Download the object from your bucket"
   ]
  },
  {
   "cell_type": "code",
   "execution_count": null,
   "id": "257606f5-9b53-45b4-85c5-6de10e4a12b7",
   "metadata": {},
   "outputs": [],
   "source": [
    "!gcloud storage cp gs://$BUCKET_NAME/kitten.png kitten2.png"
   ]
  },
  {
   "cell_type": "markdown",
   "id": "1d23ef26-6da1-41de-ac03-9fffe2b47c51",
   "metadata": {},
   "source": [
    "### Copy the object to a folder in the bucket"
   ]
  },
  {
   "cell_type": "code",
   "execution_count": null,
   "id": "950cf277-3ea8-4710-8267-f16c33652df8",
   "metadata": {},
   "outputs": [],
   "source": [
    "!gcloud storage cp gs://$BUCKET_NAME/kitten.png gs://$BUCKET_NAME/my_folder/kitten.png"
   ]
  },
  {
   "cell_type": "markdown",
   "id": "b4e25888-b153-4875-85cf-d7181573ea91",
   "metadata": {},
   "source": [
    "### List contents of a bucket or folder"
   ]
  },
  {
   "cell_type": "code",
   "execution_count": null,
   "id": "df8dfedc-254a-4ace-9cfd-592f8f38f9a0",
   "metadata": {},
   "outputs": [],
   "source": [
    "!gcloud storage ls gs://$BUCKET_NAME/"
   ]
  },
  {
   "cell_type": "markdown",
   "id": "e190bca3-e7c5-453c-b07b-5591ac6a4a7d",
   "metadata": {},
   "source": [
    "### List details for an object"
   ]
  },
  {
   "cell_type": "code",
   "execution_count": null,
   "id": "4cd4f8b7-694e-4cfd-a031-eabfa80fcdee",
   "metadata": {},
   "outputs": [],
   "source": [
    "!gcloud storage ls gs://$BUCKET_NAME/kitten.png --long"
   ]
  },
  {
   "cell_type": "markdown",
   "id": "442ca69f-a962-44e3-b15b-1c2dfb467952",
   "metadata": {},
   "source": [
    "### Make the objects publicly accessible"
   ]
  },
  {
   "cell_type": "code",
   "execution_count": null,
   "id": "b8d2f56f-8438-4779-9749-d2589b80f741",
   "metadata": {},
   "outputs": [],
   "source": [
    "!gcloud storage buckets add-iam-policy-binding gs://$BUCKET_NAME \\\n",
    "    --member=allUsers \\\n",
    "    --role=roles/storage.objectViewer"
   ]
  },
  {
   "cell_type": "markdown",
   "id": "f34dbf27-58e7-4eb5-b9af-aae8b8ed28bf",
   "metadata": {},
   "source": [
    "### Remove this access"
   ]
  },
  {
   "cell_type": "code",
   "execution_count": null,
   "id": "f6fe4905-c1e3-44c2-afcb-91a8605d3af1",
   "metadata": {},
   "outputs": [],
   "source": [
    "!gcloud storage buckets remove-iam-policy-binding gs://$BUCKET_NAME \\\n",
    "    --member=allUsers \\\n",
    "    --role=roles/storage.objectViewer"
   ]
  },
  {
   "cell_type": "markdown",
   "id": "517cf33a-9736-43b6-953a-3ad97cbd4c44",
   "metadata": {},
   "source": [
    "### Give someone access to your bucket"
   ]
  },
  {
   "cell_type": "code",
   "execution_count": null,
   "id": "d80b1f21-b951-4a31-ba92-b6de2b33849f",
   "metadata": {},
   "outputs": [],
   "source": [
    "!gcloud storage buckets add-iam-policy-binding gs://$BUCKET_NAME \\\n",
    "    --member=user:<EMAIL> \\\n",
    "    --role=roles/storage.objectViewer"
   ]
  },
  {
   "cell_type": "markdown",
   "id": "550fc7a2-a10b-49ac-9df7-ee40689fc130",
   "metadata": {},
   "source": [
    "### Remove this access"
   ]
  },
  {
   "cell_type": "code",
   "execution_count": null,
   "id": "46461ffb-b343-4e04-bbfc-ac37b8ec52e4",
   "metadata": {},
   "outputs": [],
   "source": [
    "!gcloud storage remove-iam-policy-binding gs://$BUCKET_NAME \\\n",
    "    --member=user:<EMAIL> \\\n",
    "    --role=roles/storage.objectViewer"
   ]
  },
  {
   "cell_type": "markdown",
   "id": "666a789b-e8cc-4e54-94cd-053c9924b45a",
   "metadata": {},
   "source": [
    "### Delete an object"
   ]
  },
  {
   "cell_type": "code",
   "execution_count": null,
   "id": "53311db6-0215-46e8-b634-6bddddb66821",
   "metadata": {},
   "outputs": [],
   "source": [
    "!gcloud storage rm -r gs://$BUCKET_NAME\n",
    "# or\n",
    "# !gcloud storage rm gs://$BUCKET_NAME --recursive"
   ]
  },
  {
   "cell_type": "markdown",
   "id": "0ae03d5f-7f9f-4163-8338-dca388a17b52",
   "metadata": {},
   "source": [
    "## Cloud Storage CLI"
   ]
  },
  {
   "cell_type": "code",
   "execution_count": null,
   "id": "b7f49b4f-9b5b-4256-8e0b-fe76cf07c79e",
   "metadata": {},
   "outputs": [],
   "source": [
    "# !gsutil\n",
    "# !gcloud storage"
   ]
  },
  {
   "cell_type": "markdown",
   "id": "003546f2-8767-4983-904e-5407f84f3c37",
   "metadata": {},
   "source": [
    "## Local Storage (CSV) to Cloud Storage"
   ]
  },
  {
   "cell_type": "code",
   "execution_count": null,
   "id": "9212aa29-76f9-4ae0-9823-f57a3fb2d4fd",
   "metadata": {},
   "outputs": [],
   "source": []
  },
  {
   "cell_type": "code",
   "execution_count": null,
   "id": "2d8ccdf4-88d3-4797-8098-881d08dd19bf",
   "metadata": {},
   "outputs": [],
   "source": []
  }
 ],
 "metadata": {
  "environment": {
   "kernel": "python3",
   "name": "tf2-cpu.2-11.m112",
   "type": "gcloud",
   "uri": "gcr.io/deeplearning-platform-release/tf2-cpu.2-11:m112"
  },
  "kernelspec": {
   "display_name": "Python 3",
   "language": "python",
   "name": "python3"
  },
  "language_info": {
   "codemirror_mode": {
    "name": "ipython",
    "version": 3
   },
   "file_extension": ".py",
   "mimetype": "text/x-python",
   "name": "python",
   "nbconvert_exporter": "python",
   "pygments_lexer": "ipython3",
   "version": "3.10.12"
  }
 },
 "nbformat": 4,
 "nbformat_minor": 5
}
