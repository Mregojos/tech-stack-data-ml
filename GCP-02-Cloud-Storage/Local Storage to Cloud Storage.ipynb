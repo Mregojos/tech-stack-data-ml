{
 "cells": [
  {
   "cell_type": "markdown",
   "id": "53b24d35-f83f-45cb-958c-139ec0530225",
   "metadata": {},
   "source": [
    "## Local Storage (CSV) to Cloud Storage"
   ]
  },
  {
   "cell_type": "code",
   "execution_count": 1,
   "id": "f4a227d9-a4e4-43d9-8987-3e472adfbc98",
   "metadata": {},
   "outputs": [],
   "source": [
    "from google.cloud import storage"
   ]
  },
  {
   "cell_type": "code",
   "execution_count": 4,
   "id": "7bf529a5-2b9f-4e97-a6b9-f6530df42061",
   "metadata": {},
   "outputs": [
    {
     "name": "stdout",
     "output_type": "stream",
     "text": [
      "Client create using defaut project: training1029\n"
     ]
    }
   ],
   "source": [
    "# Get the client project\n",
    "client = storage.Client()\n",
    "print(\"Client create using defaut project: {}\".format(client.project))"
   ]
  },
  {
   "cell_type": "code",
   "execution_count": 5,
   "id": "8875a8d4-7325-4c4a-af40-42033137df25",
   "metadata": {},
   "outputs": [],
   "source": [
    "# Specify the project\n",
    "# client = storage.Client(project=\"<PROJECT-ID>\")"
   ]
  },
  {
   "cell_type": "code",
   "execution_count": 10,
   "id": "ad90c3b6-8d54-4b6f-bc0f-e34c91178d55",
   "metadata": {},
   "outputs": [],
   "source": [
    "# Create a bucket\n",
    "bucket_name = \"<BUCKET_NAME\"\n",
    "# Use the projet id\n",
    "bucket_name = f\"{client.project}\"\n",
    "bucket = client.create_bucket(bucket_name)\n",
    "print(\"Bucket {} created.\".format(bucket.name))"
   ]
  },
  {
   "cell_type": "code",
   "execution_count": 16,
   "id": "0102f6f2-2a5e-45d7-9359-01f7dd065a25",
   "metadata": {},
   "outputs": [
    {
     "name": "stdout",
     "output_type": "stream",
     "text": [
      "Buckets in training1029.\n",
      "\ttraining1029\n"
     ]
    }
   ],
   "source": [
    "# List buckets in a projet\n",
    "buckets = client.list_buckets()\n",
    "\n",
    "print(\"Buckets in {}.\".format(client.project))\n",
    "for item in buckets:\n",
    "    print(\"\\t\" + item.name)"
   ]
  },
  {
   "cell_type": "code",
   "execution_count": 17,
   "id": "9ea66a0b-e345-43a3-b592-6a0ac9680e66",
   "metadata": {},
   "outputs": [],
   "source": [
    "# Upload a local file to a bucket\n",
    "# See tutorials/python-docs-samples/storage"
   ]
  },
  {
   "cell_type": "code",
   "execution_count": null,
   "id": "e80a0571-a5dc-472a-b005-20a657bdac95",
   "metadata": {},
   "outputs": [],
   "source": []
  }
 ],
 "metadata": {
  "environment": {
   "kernel": "python3",
   "name": "tf2-cpu.2-11.m112",
   "type": "gcloud",
   "uri": "gcr.io/deeplearning-platform-release/tf2-cpu.2-11:m112"
  },
  "kernelspec": {
   "display_name": "Python 3",
   "language": "python",
   "name": "python3"
  },
  "language_info": {
   "codemirror_mode": {
    "name": "ipython",
    "version": 3
   },
   "file_extension": ".py",
   "mimetype": "text/x-python",
   "name": "python",
   "nbconvert_exporter": "python",
   "pygments_lexer": "ipython3",
   "version": "3.10.12"
  }
 },
 "nbformat": 4,
 "nbformat_minor": 5
}
