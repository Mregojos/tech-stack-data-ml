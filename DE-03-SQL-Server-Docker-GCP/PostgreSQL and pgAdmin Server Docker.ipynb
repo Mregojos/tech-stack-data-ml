{
 "cells": [
  {
   "cell_type": "markdown",
   "id": "bb20387f-8a9e-42c8-b307-1d8cb79be592",
   "metadata": {},
   "source": [
    "# PostgreSQL and pgAdmin Server Docker"
   ]
  },
  {
   "cell_type": "code",
   "execution_count": null,
   "id": "2f559b5b-f0d6-416a-9df6-c7d264b2ddcf",
   "metadata": {},
   "outputs": [],
   "source": []
  }
 ],
 "metadata": {
  "environment": {
   "kernel": "python3",
   "name": "tf2-cpu.2-11.m112",
   "type": "gcloud",
   "uri": "gcr.io/deeplearning-platform-release/tf2-cpu.2-11:m112"
  },
  "kernelspec": {
   "display_name": "Python 3",
   "language": "python",
   "name": "python3"
  },
  "language_info": {
   "codemirror_mode": {
    "name": "ipython",
    "version": 3
   },
   "file_extension": ".py",
   "mimetype": "text/x-python",
   "name": "python",
   "nbconvert_exporter": "python",
   "pygments_lexer": "ipython3",
   "version": "3.10.12"
  }
 },
 "nbformat": 4,
 "nbformat_minor": 5
}
