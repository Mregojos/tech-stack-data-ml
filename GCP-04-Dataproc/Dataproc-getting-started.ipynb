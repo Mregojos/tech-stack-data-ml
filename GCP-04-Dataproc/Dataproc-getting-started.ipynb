{
 "cells": [
  {
   "cell_type": "markdown",
   "id": "7ef46686-b22b-4e06-9469-4f30ae3dbb2f",
   "metadata": {},
   "source": [
    "# Dataproc Getting Started\n",
    "\n",
    "Reference: https://cloud.google.com/dataproc/docs"
   ]
  },
  {
   "cell_type": "code",
   "execution_count": null,
   "id": "35b38354-8340-418b-acee-68f72d11e248",
   "metadata": {},
   "outputs": [],
   "source": []
  }
 ],
 "metadata": {
  "environment": {
   "kernel": "python3",
   "name": "tf2-cpu.2-11.m112",
   "type": "gcloud",
   "uri": "gcr.io/deeplearning-platform-release/tf2-cpu.2-11:m112"
  },
  "kernelspec": {
   "display_name": "Python 3",
   "language": "python",
   "name": "python3"
  },
  "language_info": {
   "codemirror_mode": {
    "name": "ipython",
    "version": 3
   },
   "file_extension": ".py",
   "mimetype": "text/x-python",
   "name": "python",
   "nbconvert_exporter": "python",
   "pygments_lexer": "ipython3",
   "version": "3.10.12"
  }
 },
 "nbformat": 4,
 "nbformat_minor": 5
}
