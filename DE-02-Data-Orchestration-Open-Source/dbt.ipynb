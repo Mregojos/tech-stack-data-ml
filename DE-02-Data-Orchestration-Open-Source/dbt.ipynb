{
 "cells": [
  {
   "cell_type": "markdown",
   "id": "e98d11db-6a71-4e56-a804-7b99207acf90",
   "metadata": {},
   "source": [
    "# dbt"
   ]
  },
  {
   "cell_type": "code",
   "execution_count": null,
   "id": "67527a0c-5847-45cd-b7cb-914692962f5a",
   "metadata": {},
   "outputs": [],
   "source": []
  }
 ],
 "metadata": {
  "environment": {
   "kernel": "python3",
   "name": "tf2-cpu.2-11.m112",
   "type": "gcloud",
   "uri": "gcr.io/deeplearning-platform-release/tf2-cpu.2-11:m112"
  },
  "kernelspec": {
   "display_name": "Python 3",
   "language": "python",
   "name": "python3"
  },
  "language_info": {
   "codemirror_mode": {
    "name": "ipython",
    "version": 3
   },
   "file_extension": ".py",
   "mimetype": "text/x-python",
   "name": "python",
   "nbconvert_exporter": "python",
   "pygments_lexer": "ipython3",
   "version": "3.10.12"
  }
 },
 "nbformat": 4,
 "nbformat_minor": 5
}
