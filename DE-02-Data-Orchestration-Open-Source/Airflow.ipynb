{
 "cells": [
  {
   "cell_type": "markdown",
   "id": "ddd5d10d-5441-41d0-bd40-387590857c5c",
   "metadata": {},
   "source": [
    "# Airflow"
   ]
  },
  {
   "cell_type": "code",
   "execution_count": null,
   "id": "f09da689-1a54-45e8-b64a-7fede07e524a",
   "metadata": {},
   "outputs": [],
   "source": []
  }
 ],
 "metadata": {
  "environment": {
   "kernel": "python3",
   "name": "tf2-cpu.2-11.m112",
   "type": "gcloud",
   "uri": "gcr.io/deeplearning-platform-release/tf2-cpu.2-11:m112"
  },
  "kernelspec": {
   "display_name": "Python 3",
   "language": "python",
   "name": "python3"
  },
  "language_info": {
   "codemirror_mode": {
    "name": "ipython",
    "version": 3
   },
   "file_extension": ".py",
   "mimetype": "text/x-python",
   "name": "python",
   "nbconvert_exporter": "python",
   "pygments_lexer": "ipython3",
   "version": "3.10.12"
  }
 },
 "nbformat": 4,
 "nbformat_minor": 5
}
